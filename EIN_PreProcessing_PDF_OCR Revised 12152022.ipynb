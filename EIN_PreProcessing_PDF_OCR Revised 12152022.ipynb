{
  "nbformat": 4,
  "nbformat_minor": 0,
  "metadata": {
    "colab": {
      "name": "EIN_PreProcessing - PDF_OCR.ipynb",
      "provenance": [],
      "collapsed_sections": [
        "nr0tFRNcQX0p"
      ],
      "include_colab_link": true
    },
    "kernelspec": {
      "name": "python3",
      "display_name": "Python 3"
    },
    "language_info": {
      "name": "python"
    },
    "accelerator": "GPU",
    "gpuClass": "standard"
  },
  "cells": [
    {
      "cell_type": "markdown",
      "metadata": {
        "id": "view-in-github",
        "colab_type": "text"
      },
      "source": [
        "<a href=\"https://colab.research.google.com/github/sruane1/testing_misc/blob/main/EIN_PreProcessing_PDF_OCR%20Revised%2012152022.ipynb\" target=\"_parent\"><img src=\"https://colab.research.google.com/assets/colab-badge.svg\" alt=\"Open In Colab\"/></a>"
      ]
    },
    {
      "cell_type": "markdown",
      "metadata": {
        "id": "ClOQuULUQSy3"
      },
      "source": [
        "# Convert PDF to OCR Searchable PDF for EIN Scanning & Retrieval"
      ]
    },
    {
      "cell_type": "markdown",
      "metadata": {
        "id": "nr0tFRNcQX0p"
      },
      "source": [
        "## Lib imports"
      ]
    },
    {
      "cell_type": "code",
      "metadata": {
        "colab": {
          "base_uri": "https://localhost:8080/"
        },
        "id": "sBl8EFSDPFR0",
        "outputId": "a8c48979-f3d1-45cb-bcb8-81c33734bfc6"
      },
      "source": [
        "! apt install tesseract-ocr\n",
        "! apt install libtesseract-dev"
      ],
      "execution_count": 13,
      "outputs": [
        {
          "output_type": "stream",
          "name": "stdout",
          "text": [
            "Reading package lists... Done\n",
            "Building dependency tree       \n",
            "Reading state information... Done\n",
            "tesseract-ocr is already the newest version (4.00~git2288-10f4998a-2).\n",
            "The following package was automatically installed and is no longer required:\n",
            "  libnvidia-common-460\n",
            "Use 'apt autoremove' to remove it.\n",
            "0 upgraded, 0 newly installed, 0 to remove and 20 not upgraded.\n",
            "Reading package lists... Done\n",
            "Building dependency tree       \n",
            "Reading state information... Done\n",
            "libtesseract-dev is already the newest version (4.00~git2288-10f4998a-2).\n",
            "The following package was automatically installed and is no longer required:\n",
            "  libnvidia-common-460\n",
            "Use 'apt autoremove' to remove it.\n",
            "0 upgraded, 0 newly installed, 0 to remove and 20 not upgraded.\n"
          ]
        }
      ]
    },
    {
      "cell_type": "code",
      "metadata": {
        "colab": {
          "base_uri": "https://localhost:8080/"
        },
        "id": "RWdJNvEfOpWb",
        "outputId": "4a675576-a371-4ba5-c3b3-ad4544c7f0c8"
      },
      "source": [
        "!pip install pytesseract"
      ],
      "execution_count": 14,
      "outputs": [
        {
          "output_type": "stream",
          "name": "stdout",
          "text": [
            "Looking in indexes: https://pypi.org/simple, https://us-python.pkg.dev/colab-wheels/public/simple/\n",
            "Requirement already satisfied: pytesseract in /usr/local/lib/python3.8/dist-packages (0.3.10)\n",
            "Requirement already satisfied: Pillow>=8.0.0 in /usr/local/lib/python3.8/dist-packages (from pytesseract) (9.3.0)\n",
            "Requirement already satisfied: packaging>=21.3 in /usr/local/lib/python3.8/dist-packages (from pytesseract) (21.3)\n",
            "Requirement already satisfied: pyparsing!=3.0.5,>=2.0.2 in /usr/local/lib/python3.8/dist-packages (from packaging>=21.3->pytesseract) (3.0.9)\n"
          ]
        }
      ]
    },
    {
      "cell_type": "code",
      "metadata": {
        "colab": {
          "base_uri": "https://localhost:8080/"
        },
        "id": "paGWcxHCRSDE",
        "outputId": "0bbda79b-ca05-4658-cfe2-27e570b84b34"
      },
      "source": [
        "!apt install ghostscript"
      ],
      "execution_count": 15,
      "outputs": [
        {
          "output_type": "stream",
          "name": "stdout",
          "text": [
            "Reading package lists... Done\n",
            "Building dependency tree       \n",
            "Reading state information... Done\n",
            "ghostscript is already the newest version (9.26~dfsg+0-0ubuntu0.18.04.17).\n",
            "The following package was automatically installed and is no longer required:\n",
            "  libnvidia-common-460\n",
            "Use 'apt autoremove' to remove it.\n",
            "0 upgraded, 0 newly installed, 0 to remove and 20 not upgraded.\n"
          ]
        }
      ]
    },
    {
      "cell_type": "markdown",
      "source": [
        "Prior version of ocrmypdf required due to tesseract version error in latest"
      ],
      "metadata": {
        "id": "Vj6ekccEPKPU"
      }
    },
    {
      "cell_type": "code",
      "metadata": {
        "colab": {
          "base_uri": "https://localhost:8080/",
          "height": 921
        },
        "id": "-r5OBayiN0AJ",
        "outputId": "3034e04b-179e-4ebb-a6ef-32c33a2e3348"
      },
      "source": [
        "!pip install ocrmypdf==13.4.3"
      ],
      "execution_count": 30,
      "outputs": [
        {
          "output_type": "stream",
          "name": "stdout",
          "text": [
            "Looking in indexes: https://pypi.org/simple, https://us-python.pkg.dev/colab-wheels/public/simple/\n",
            "Collecting ocrmypdf==13.4.3\n",
            "  Downloading ocrmypdf-13.4.3-py37-none-any.whl (123 kB)\n",
            "\u001b[K     |████████████████████████████████| 123 kB 31.2 MB/s \n",
            "\u001b[?25hRequirement already satisfied: importlib-resources>=5 in /usr/local/lib/python3.8/dist-packages (from ocrmypdf==13.4.3) (5.10.0)\n",
            "Collecting pluggy<2,>=0.13.0\n",
            "  Downloading pluggy-1.0.0-py2.py3-none-any.whl (13 kB)\n",
            "Requirement already satisfied: tqdm>=4 in /usr/local/lib/python3.8/dist-packages (from ocrmypdf==13.4.3) (4.64.1)\n",
            "Requirement already satisfied: pikepdf!=5.0.0,>=4.0.0 in /usr/local/lib/python3.8/dist-packages (from ocrmypdf==13.4.3) (6.2.6)\n",
            "Requirement already satisfied: Pillow>=8.2.0 in /usr/local/lib/python3.8/dist-packages (from ocrmypdf==13.4.3) (9.3.0)\n",
            "Collecting coloredlogs>=14.0\n",
            "  Downloading coloredlogs-15.0.1-py2.py3-none-any.whl (46 kB)\n",
            "\u001b[K     |████████████████████████████████| 46 kB 4.7 MB/s \n",
            "\u001b[?25hRequirement already satisfied: img2pdf<0.5,>=0.3.0 in /usr/local/lib/python3.8/dist-packages (from ocrmypdf==13.4.3) (0.4.4)\n",
            "Collecting pdfminer.six!=20200720,<=20220319,>=20191110\n",
            "  Downloading pdfminer.six-20220319-py3-none-any.whl (5.6 MB)\n",
            "\u001b[K     |████████████████████████████████| 5.6 MB 66.0 MB/s \n",
            "\u001b[?25hRequirement already satisfied: packaging>=20 in /usr/local/lib/python3.8/dist-packages (from ocrmypdf==13.4.3) (21.3)\n",
            "Requirement already satisfied: reportlab>=3.5.66 in /usr/local/lib/python3.8/dist-packages (from ocrmypdf==13.4.3) (3.6.12)\n",
            "Collecting humanfriendly>=9.1\n",
            "  Downloading humanfriendly-10.0-py2.py3-none-any.whl (86 kB)\n",
            "\u001b[K     |████████████████████████████████| 86 kB 7.4 MB/s \n",
            "\u001b[?25hRequirement already satisfied: zipp>=3.1.0 in /usr/local/lib/python3.8/dist-packages (from importlib-resources>=5->ocrmypdf==13.4.3) (3.11.0)\n",
            "Requirement already satisfied: pyparsing!=3.0.5,>=2.0.2 in /usr/local/lib/python3.8/dist-packages (from packaging>=20->ocrmypdf==13.4.3) (3.0.9)\n",
            "Requirement already satisfied: chardet in /usr/local/lib/python3.8/dist-packages (from pdfminer.six!=20200720,<=20220319,>=20191110->ocrmypdf==13.4.3) (3.0.4)\n",
            "Requirement already satisfied: cryptography in /usr/local/lib/python3.8/dist-packages (from pdfminer.six!=20200720,<=20220319,>=20191110->ocrmypdf==13.4.3) (38.0.4)\n",
            "Requirement already satisfied: deprecation in /usr/local/lib/python3.8/dist-packages (from pikepdf!=5.0.0,>=4.0.0->ocrmypdf==13.4.3) (2.1.0)\n",
            "Requirement already satisfied: lxml>=4.8 in /usr/local/lib/python3.8/dist-packages (from pikepdf!=5.0.0,>=4.0.0->ocrmypdf==13.4.3) (4.9.1)\n",
            "Requirement already satisfied: cffi>=1.12 in /usr/local/lib/python3.8/dist-packages (from cryptography->pdfminer.six!=20200720,<=20220319,>=20191110->ocrmypdf==13.4.3) (1.15.1)\n",
            "Requirement already satisfied: pycparser in /usr/local/lib/python3.8/dist-packages (from cffi>=1.12->cryptography->pdfminer.six!=20200720,<=20220319,>=20191110->ocrmypdf==13.4.3) (2.21)\n",
            "Installing collected packages: humanfriendly, pluggy, pdfminer.six, coloredlogs, ocrmypdf\n",
            "  Attempting uninstall: pluggy\n",
            "    Found existing installation: pluggy 0.7.1\n",
            "    Uninstalling pluggy-0.7.1:\n",
            "      Successfully uninstalled pluggy-0.7.1\n",
            "  Attempting uninstall: pdfminer.six\n",
            "    Found existing installation: pdfminer.six 20221105\n",
            "    Uninstalling pdfminer.six-20221105:\n",
            "      Successfully uninstalled pdfminer.six-20221105\n",
            "  Attempting uninstall: ocrmypdf\n",
            "    Found existing installation: ocrmypdf 3.2.1\n",
            "    Uninstalling ocrmypdf-3.2.1:\n",
            "      Successfully uninstalled ocrmypdf-3.2.1\n",
            "\u001b[31mERROR: pip's dependency resolver does not currently take into account all the packages that are installed. This behaviour is the source of the following dependency conflicts.\n",
            "pytest 3.6.4 requires pluggy<0.8,>=0.5, but you have pluggy 1.0.0 which is incompatible.\u001b[0m\n",
            "Successfully installed coloredlogs-15.0.1 humanfriendly-10.0 ocrmypdf-13.4.3 pdfminer.six-20220319 pluggy-1.0.0\n"
          ]
        },
        {
          "output_type": "display_data",
          "data": {
            "application/vnd.colab-display-data+json": {
              "pip_warning": {
                "packages": [
                  "pdfminer"
                ]
              }
            }
          },
          "metadata": {}
        }
      ]
    },
    {
      "cell_type": "code",
      "metadata": {
        "colab": {
          "base_uri": "https://localhost:8080/",
          "height": 36
        },
        "id": "RAMPPNQYRghq",
        "outputId": "6ac860c5-7225-4ab6-ef0a-b28e7fbf239d"
      },
      "source": [
        "from ctypes.util import find_library\n",
        "find_library(\"gs\")"
      ],
      "execution_count": 1,
      "outputs": [
        {
          "output_type": "execute_result",
          "data": {
            "text/plain": [
              "'libgs.so.9'"
            ],
            "application/vnd.google.colaboratory.intrinsic+json": {
              "type": "string"
            }
          },
          "metadata": {},
          "execution_count": 1
        }
      ]
    },
    {
      "cell_type": "code",
      "metadata": {
        "id": "6vVNOL-yYhb2"
      },
      "source": [
        "#optional imports to make a pretty list\n",
        "import pandas as pd\n",
        "%load_ext google.colab.data_table"
      ],
      "execution_count": 2,
      "outputs": []
    },
    {
      "cell_type": "code",
      "metadata": {
        "id": "i-VxYtJ-jARe",
        "outputId": "6a888987-fee0-4e9e-daad-338b4f76fa1c",
        "colab": {
          "base_uri": "https://localhost:8080/"
        }
      },
      "source": [
        "!mkdir input_pdfs\n",
        "!mkdir output_pdfs\n",
        "!mkdir pdfs_processed"
      ],
      "execution_count": 3,
      "outputs": [
        {
          "output_type": "stream",
          "name": "stdout",
          "text": [
            "mkdir: cannot create directory ‘input_pdfs’: File exists\n",
            "mkdir: cannot create directory ‘output_pdfs’: File exists\n",
            "mkdir: cannot create directory ‘pdfs_processed’: File exists\n"
          ]
        }
      ]
    },
    {
      "cell_type": "markdown",
      "metadata": {
        "id": "JFIUgo09Qb0d"
      },
      "source": [
        "## OCR Execution"
      ]
    },
    {
      "cell_type": "markdown",
      "metadata": {
        "id": "sEActy1Fcs9-"
      },
      "source": [
        "<==== click on the Folder logo.  \n",
        "Drag and drop you files in the \"input_papers\" folder.  \n",
        "The output files will be located in the \"output_papers\" folder.  \n",
        "(If the folders are not visible, refresh the explorer with the refresh button)"
      ]
    },
    {
      "cell_type": "code",
      "metadata": {
        "colab": {
          "base_uri": "https://localhost:8080/",
          "height": 236
        },
        "id": "mSqutb7ZVoA4",
        "outputId": "6e1d3644-6299-400b-f3af-e71ab72ca911"
      },
      "source": [
        "import os\n",
        "file_list = []\n",
        "\n",
        "input_folder_path = \"/content/input_pdfs\"\n",
        "output_folder_path = \"/content/output_pdfs\"\n",
        "\n",
        "for filename in os.listdir(input_folder_path):\n",
        "    if filename.endswith(\"pdf\"): \n",
        "      file_list.append(filename)\n",
        "\n",
        "print(\"The following files will be converted : \") \n",
        "pd.DataFrame(file_list, columns=[\"Filename\"])"
      ],
      "execution_count": 4,
      "outputs": [
        {
          "output_type": "stream",
          "name": "stdout",
          "text": [
            "The following files will be converted : \n"
          ]
        },
        {
          "output_type": "execute_result",
          "data": {
            "text/plain": [
              "                                            Filename\n",
              "0                          sfr_tst_animal_league.pdf\n",
              "1  (nosearch)IRS-tax-exempt-status-affirmation-le...\n",
              "2                                test_ein_letter.pdf\n",
              "3                                        sfr_tst.pdf\n",
              "4  IRS Determination Letter-Global Resource for A...\n",
              "5       IRS-tax-exempt-status-affirmation-letter.pdf"
            ],
            "text/html": [
              "\n",
              "  <div id=\"df-3aa4018a-a849-405d-9da5-75c725abb051\">\n",
              "    <div class=\"colab-df-container\">\n",
              "      <div>\n",
              "<style scoped>\n",
              "    .dataframe tbody tr th:only-of-type {\n",
              "        vertical-align: middle;\n",
              "    }\n",
              "\n",
              "    .dataframe tbody tr th {\n",
              "        vertical-align: top;\n",
              "    }\n",
              "\n",
              "    .dataframe thead th {\n",
              "        text-align: right;\n",
              "    }\n",
              "</style>\n",
              "<table border=\"1\" class=\"dataframe\">\n",
              "  <thead>\n",
              "    <tr style=\"text-align: right;\">\n",
              "      <th></th>\n",
              "      <th>Filename</th>\n",
              "    </tr>\n",
              "  </thead>\n",
              "  <tbody>\n",
              "    <tr>\n",
              "      <th>0</th>\n",
              "      <td>sfr_tst_animal_league.pdf</td>\n",
              "    </tr>\n",
              "    <tr>\n",
              "      <th>1</th>\n",
              "      <td>(nosearch)IRS-tax-exempt-status-affirmation-le...</td>\n",
              "    </tr>\n",
              "    <tr>\n",
              "      <th>2</th>\n",
              "      <td>test_ein_letter.pdf</td>\n",
              "    </tr>\n",
              "    <tr>\n",
              "      <th>3</th>\n",
              "      <td>sfr_tst.pdf</td>\n",
              "    </tr>\n",
              "    <tr>\n",
              "      <th>4</th>\n",
              "      <td>IRS Determination Letter-Global Resource for A...</td>\n",
              "    </tr>\n",
              "    <tr>\n",
              "      <th>5</th>\n",
              "      <td>IRS-tax-exempt-status-affirmation-letter.pdf</td>\n",
              "    </tr>\n",
              "  </tbody>\n",
              "</table>\n",
              "</div>\n",
              "      <button class=\"colab-df-convert\" onclick=\"convertToInteractive('df-3aa4018a-a849-405d-9da5-75c725abb051')\"\n",
              "              title=\"Convert this dataframe to an interactive table.\"\n",
              "              style=\"display:none;\">\n",
              "        \n",
              "  <svg xmlns=\"http://www.w3.org/2000/svg\" height=\"24px\"viewBox=\"0 0 24 24\"\n",
              "       width=\"24px\">\n",
              "    <path d=\"M0 0h24v24H0V0z\" fill=\"none\"/>\n",
              "    <path d=\"M18.56 5.44l.94 2.06.94-2.06 2.06-.94-2.06-.94-.94-2.06-.94 2.06-2.06.94zm-11 1L8.5 8.5l.94-2.06 2.06-.94-2.06-.94L8.5 2.5l-.94 2.06-2.06.94zm10 10l.94 2.06.94-2.06 2.06-.94-2.06-.94-.94-2.06-.94 2.06-2.06.94z\"/><path d=\"M17.41 7.96l-1.37-1.37c-.4-.4-.92-.59-1.43-.59-.52 0-1.04.2-1.43.59L10.3 9.45l-7.72 7.72c-.78.78-.78 2.05 0 2.83L4 21.41c.39.39.9.59 1.41.59.51 0 1.02-.2 1.41-.59l7.78-7.78 2.81-2.81c.8-.78.8-2.07 0-2.86zM5.41 20L4 18.59l7.72-7.72 1.47 1.35L5.41 20z\"/>\n",
              "  </svg>\n",
              "      </button>\n",
              "      \n",
              "  <style>\n",
              "    .colab-df-container {\n",
              "      display:flex;\n",
              "      flex-wrap:wrap;\n",
              "      gap: 12px;\n",
              "    }\n",
              "\n",
              "    .colab-df-convert {\n",
              "      background-color: #E8F0FE;\n",
              "      border: none;\n",
              "      border-radius: 50%;\n",
              "      cursor: pointer;\n",
              "      display: none;\n",
              "      fill: #1967D2;\n",
              "      height: 32px;\n",
              "      padding: 0 0 0 0;\n",
              "      width: 32px;\n",
              "    }\n",
              "\n",
              "    .colab-df-convert:hover {\n",
              "      background-color: #E2EBFA;\n",
              "      box-shadow: 0px 1px 2px rgba(60, 64, 67, 0.3), 0px 1px 3px 1px rgba(60, 64, 67, 0.15);\n",
              "      fill: #174EA6;\n",
              "    }\n",
              "\n",
              "    [theme=dark] .colab-df-convert {\n",
              "      background-color: #3B4455;\n",
              "      fill: #D2E3FC;\n",
              "    }\n",
              "\n",
              "    [theme=dark] .colab-df-convert:hover {\n",
              "      background-color: #434B5C;\n",
              "      box-shadow: 0px 1px 3px 1px rgba(0, 0, 0, 0.15);\n",
              "      filter: drop-shadow(0px 1px 2px rgba(0, 0, 0, 0.3));\n",
              "      fill: #FFFFFF;\n",
              "    }\n",
              "  </style>\n",
              "\n",
              "      <script>\n",
              "        const buttonEl =\n",
              "          document.querySelector('#df-3aa4018a-a849-405d-9da5-75c725abb051 button.colab-df-convert');\n",
              "        buttonEl.style.display =\n",
              "          google.colab.kernel.accessAllowed ? 'block' : 'none';\n",
              "\n",
              "        async function convertToInteractive(key) {\n",
              "          const element = document.querySelector('#df-3aa4018a-a849-405d-9da5-75c725abb051');\n",
              "          const dataTable =\n",
              "            await google.colab.kernel.invokeFunction('convertToInteractive',\n",
              "                                                     [key], {});\n",
              "          if (!dataTable) return;\n",
              "\n",
              "          const docLinkHtml = 'Like what you see? Visit the ' +\n",
              "            '<a target=\"_blank\" href=https://colab.research.google.com/notebooks/data_table.ipynb>data table notebook</a>'\n",
              "            + ' to learn more about interactive tables.';\n",
              "          element.innerHTML = '';\n",
              "          dataTable['output_type'] = 'display_data';\n",
              "          await google.colab.output.renderOutput(dataTable, element);\n",
              "          const docLink = document.createElement('div');\n",
              "          docLink.innerHTML = docLinkHtml;\n",
              "          element.appendChild(docLink);\n",
              "        }\n",
              "      </script>\n",
              "    </div>\n",
              "  </div>\n",
              "  "
            ],
            "application/vnd.google.colaboratory.module+javascript": "\n      import \"https://ssl.gstatic.com/colaboratory/data_table/fb998edc550c7947/data_table.js\";\n\n      window.createDataTable({\n        data: [[{\n            'v': 0,\n            'f': \"0\",\n        },\n\"sfr_tst_animal_league.pdf\"],\n [{\n            'v': 1,\n            'f': \"1\",\n        },\n\"(nosearch)IRS-tax-exempt-status-affirmation-letter.pdf\"],\n [{\n            'v': 2,\n            'f': \"2\",\n        },\n\"test_ein_letter.pdf\"],\n [{\n            'v': 3,\n            'f': \"3\",\n        },\n\"sfr_tst.pdf\"],\n [{\n            'v': 4,\n            'f': \"4\",\n        },\n\"IRS Determination Letter-Global Resource for Advancing Cancer Education-11.pdf\"],\n [{\n            'v': 5,\n            'f': \"5\",\n        },\n\"IRS-tax-exempt-status-affirmation-letter.pdf\"]],\n        columns: [[\"number\", \"index\"], [\"string\", \"Filename\"]],\n        columnOptions: [{\"width\": \"1px\", \"className\": \"index_column\"}],\n        rowsPerPage: 25,\n        helpUrl: \"https://colab.research.google.com/notebooks/data_table.ipynb\",\n        suppressOutputScrolling: true,\n        minimumWidth: undefined,\n      });\n    "
          },
          "metadata": {},
          "execution_count": 4
        }
      ]
    },
    {
      "cell_type": "markdown",
      "metadata": {
        "id": "2JY2Vjwuc9u5"
      },
      "source": [
        "Warning : several minutes per file, please check the above list before proceeding."
      ]
    },
    {
      "cell_type": "code",
      "metadata": {
        "colab": {
          "base_uri": "https://localhost:8080/"
        },
        "id": "T6UZ_pALYo2b",
        "outputId": "2035e22f-7337-420b-f181-e30f98c803d4"
      },
      "source": [
        "for filename in file_list:\n",
        "  print(\"Converting : \" + filename)\n",
        "  input_filename = input_folder_path+'/'+filename\n",
        "  output_filename = output_folder_path+'/'+filename\n",
        "  !ocrmypdf --force-ocr \"{input_filename}\" \"{output_filename}\""
      ],
      "execution_count": 5,
      "outputs": [
        {
          "output_type": "stream",
          "name": "stdout",
          "text": [
            "Converting : sfr_tst_animal_league.pdf\n",
            "Scanning contents: 100% 1/1 [00:00<00:00, 51.70page/s]\n",
            "    1 page already has text! - rasterizing text and running OCR anyway\n",
            "OCR: 100% 1.0/1.0 [00:09<00:00,  9.47s/page]\n",
            "Postprocessing...\n",
            "PDF/A conversion: 100% 1/1 [00:00<00:00,  4.83page/s]\n",
            "\u001b[33mSome input metadata could not be copied because it is not permitted in PDF/A. You may wish to examine the output PDF's XMP metadata.\u001b[0m\n",
            "Recompressing JPEGs: 0image [00:00, ?image/s]\n",
            "Deflating JPEGs: 100% 1/1 [00:00<00:00, 34.03image/s]\n",
            "JBIG2: 0item [00:00, ?item/s]\n",
            "Optimize ratio: 1.32 savings: 24.3%\n",
            "Output file is a PDF/A-2B (as expected)\n",
            "Converting : (nosearch)IRS-tax-exempt-status-affirmation-letter.pdf\n",
            "Scanning contents: 100% 2/2 [00:00<00:00, 216.33page/s]\n",
            "Start processing 2 pages concurrently\n",
            "    1 \u001b[33m[tesseract] unsure about page orientation\u001b[0m\n",
            "OCR: 100% 2.0/2.0 [00:04<00:00,  2.21s/page]\n",
            "Postprocessing...\n",
            "PDF/A conversion: 100% 2/2 [00:00<00:00,  3.60page/s]\n",
            "\u001b[33mSome input metadata could not be copied because it is not permitted in PDF/A. You may wish to examine the output PDF's XMP metadata.\u001b[0m\n",
            "Recompressing JPEGs: 0image [00:00, ?image/s]\n",
            "Deflating JPEGs: 0image [00:00, ?image/s]\n",
            "JBIG2: 0item [00:00, ?item/s]\n",
            "Optimize ratio: 1.00 savings: 0.0%\n",
            "Output file is a PDF/A-2B (as expected)\n",
            "Converting : test_ein_letter.pdf\n",
            "Scanning contents: 100% 1/1 [00:00<00:00, 54.94page/s]\n",
            "    1 page already has text! - rasterizing text and running OCR anyway\n",
            "OCR: 100% 1.0/1.0 [00:06<00:00,  6.84s/page]\n",
            "Postprocessing...\n",
            "PDF/A conversion: 100% 1/1 [00:00<00:00,  1.53page/s]\n",
            "\u001b[33mSome input metadata could not be copied because it is not permitted in PDF/A. You may wish to examine the output PDF's XMP metadata.\u001b[0m\n",
            "Recompressing JPEGs: 0image [00:00, ?image/s]\n",
            "Deflating JPEGs: 0image [00:00, ?image/s]\n",
            "JBIG2: 0item [00:00, ?item/s]\n",
            "Optimize ratio: 1.00 savings: 0.0%\n",
            "Output file is a PDF/A-2B (as expected)\n",
            "\u001b[33mThe output file size is 10.48× larger than the input file.\n",
            "Possible reasons for this include:\n",
            "The argument --force-ocr was issued, causing transcoding.\n",
            "The optional dependency 'jbig2' was not found, so some image optimizations could not be attempted.\n",
            "The optional dependency 'pngquant' was not found, so some image optimizations could not be attempted.\n",
            "PDF/A conversion was enabled. (Try `--output-type pdf`.)\n",
            "\u001b[0m\n",
            "Converting : sfr_tst.pdf\n",
            "Scanning contents: 100% 3/3 [00:00<00:00, 64.82page/s]\n",
            "Start processing 2 pages concurrently\n",
            "    1 page already has text! - rasterizing text and running OCR anyway\n",
            "    2 page already has text! - rasterizing text and running OCR anyway\n",
            "    3 page already has text! - rasterizing text and running OCR anyway\n",
            "OCR: 100% 3.0/3.0 [00:11<00:00,  3.94s/page]\n",
            "Postprocessing...\n",
            "PDF/A conversion: 100% 3/3 [00:00<00:00,  4.89page/s]\n",
            "\u001b[33mSome input metadata could not be copied because it is not permitted in PDF/A. You may wish to examine the output PDF's XMP metadata.\u001b[0m\n",
            "Recompressing JPEGs: 0image [00:00, ?image/s]\n",
            "Deflating JPEGs: 100% 3/3 [00:00<00:00, 67.65image/s]\n",
            "JBIG2: 0item [00:00, ?item/s]\n",
            "Optimize ratio: 1.40 savings: 28.5%\n",
            "Output file is a PDF/A-2B (as expected)\n",
            "Converting : IRS Determination Letter-Global Resource for Advancing Cancer Education-11.pdf\n",
            "Scanning contents: 100% 3/3 [00:00<00:00, 33.51page/s]\n",
            "Start processing 2 pages concurrently\n",
            "    1 page already has text! - rasterizing text and running OCR anyway\n",
            "    2 page already has text! - rasterizing text and running OCR anyway\n",
            "    3 page already has text! - rasterizing text and running OCR anyway\n",
            "OCR: 100% 3.0/3.0 [00:14<00:00,  4.90s/page]\n",
            "Postprocessing...\n",
            "PDF/A conversion: 100% 3/3 [00:00<00:00,  6.02page/s]\n",
            "\u001b[33mSome input metadata could not be copied because it is not permitted in PDF/A. You may wish to examine the output PDF's XMP metadata.\u001b[0m\n",
            "Recompressing JPEGs: 0image [00:00, ?image/s]\n",
            "Deflating JPEGs: 0image [00:00, ?image/s]\n",
            "JBIG2: 0item [00:00, ?item/s]\n",
            "Optimize ratio: 1.00 savings: 0.0%\n",
            "Output file is a PDF/A-2B (as expected)\n",
            "Converting : IRS-tax-exempt-status-affirmation-letter.pdf\n",
            "Scanning contents: 100% 2/2 [00:00<00:00, 32.92page/s]\n",
            "Start processing 2 pages concurrently\n",
            "    1 page already has text! - rasterizing text and running OCR anyway\n",
            "    2 page already has text! - rasterizing text and running OCR anyway\n",
            "OCR: 100% 2.0/2.0 [00:17<00:00,  8.58s/page]\n",
            "Postprocessing...\n",
            "PDF/A conversion: 100% 2/2 [00:01<00:00,  1.89page/s]\n",
            "\u001b[33mSome input metadata could not be copied because it is not permitted in PDF/A. You may wish to examine the output PDF's XMP metadata.\u001b[0m\n",
            "Recompressing JPEGs: 0image [00:00, ?image/s]\n",
            "Deflating JPEGs: 100% 2/2 [00:00<00:00, 58.53image/s]\n",
            "JBIG2: 0item [00:00, ?item/s]\n",
            "Optimize ratio: 1.37 savings: 26.9%\n",
            "Output file is a PDF/A-2B (as expected)\n"
          ]
        }
      ]
    },
    {
      "cell_type": "code",
      "source": [
        "!pip install pdfminer.six"
      ],
      "metadata": {
        "id": "-0zbLBMPLQ9i",
        "outputId": "6312ae82-70ea-4ee6-8f1e-f5699f2aea02",
        "colab": {
          "base_uri": "https://localhost:8080/"
        }
      },
      "execution_count": 6,
      "outputs": [
        {
          "output_type": "stream",
          "name": "stdout",
          "text": [
            "Looking in indexes: https://pypi.org/simple, https://us-python.pkg.dev/colab-wheels/public/simple/\n",
            "Requirement already satisfied: pdfminer.six in /usr/local/lib/python3.8/dist-packages (20220319)\n",
            "Requirement already satisfied: chardet in /usr/local/lib/python3.8/dist-packages (from pdfminer.six) (3.0.4)\n",
            "Requirement already satisfied: cryptography in /usr/local/lib/python3.8/dist-packages (from pdfminer.six) (38.0.4)\n",
            "Requirement already satisfied: cffi>=1.12 in /usr/local/lib/python3.8/dist-packages (from cryptography->pdfminer.six) (1.15.1)\n",
            "Requirement already satisfied: pycparser in /usr/local/lib/python3.8/dist-packages (from cffi>=1.12->cryptography->pdfminer.six) (2.21)\n"
          ]
        }
      ]
    },
    {
      "cell_type": "code",
      "source": [
        "from pdfminer import high_level\n",
        "import os\n",
        "import re\n",
        "import shutil\n"
      ],
      "metadata": {
        "id": "GGVlDfAfKkz7"
      },
      "execution_count": 7,
      "outputs": []
    },
    {
      "cell_type": "code",
      "source": [
        "for filename in file_list:\n",
        "    print(\"Converting : \" + filename)\n",
        "    input_filename = input_folder_path+'/'+filename\n",
        "    output_filename = output_folder_path+'/'+filename\n",
        "    output_pdf_processed = '/content/pdfs_processed'\n",
        "    f = os.path.join(output_folder_path, filename)\n",
        "    if os.path.isfile(f):\n",
        "        local_pdf_filename = f\n",
        "        pages = [0]\n",
        "        extracted_text = high_level.extract_text(local_pdf_filename, \"\", pages)\n",
        "        lines = extracted_text.split(\"\\n\")\n",
        "        ein_find = re.compile(r'^\\w+\\d?-\\w+')\n",
        "\n",
        "        for line in lines:\n",
        "            if ein_find.search(line):\n",
        "                if len(line.strip()) == 10:\n",
        "                    ein = line.strip()\n",
        "                    g = os.path.join(output_folder_path+'/', ein + '_' + filename)\n",
        "                    end_file = ein + '_' + filename\n",
        "                    shutil.copyfile(output_folder_path+'/' + filename, output_pdf_processed+'/' + end_file)"
      ],
      "metadata": {
        "colab": {
          "base_uri": "https://localhost:8080/"
        },
        "id": "27RD3tXdKBFi",
        "outputId": "23d9f057-d375-4874-9063-43d3205a03b9"
      },
      "execution_count": 8,
      "outputs": [
        {
          "output_type": "stream",
          "name": "stdout",
          "text": [
            "Converting : sfr_tst_animal_league.pdf\n",
            "Converting : (nosearch)IRS-tax-exempt-status-affirmation-letter.pdf\n",
            "Converting : test_ein_letter.pdf\n",
            "Converting : sfr_tst.pdf\n",
            "Converting : IRS Determination Letter-Global Resource for Advancing Cancer Education-11.pdf\n",
            "Converting : IRS-tax-exempt-status-affirmation-letter.pdf\n"
          ]
        }
      ]
    }
  ]
}